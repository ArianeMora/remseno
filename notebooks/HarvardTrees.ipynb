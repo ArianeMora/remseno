{
 "cells": [
  {
   "cell_type": "markdown",
   "id": "8d0621a6",
   "metadata": {},
   "source": [
    "# Havard trees\n",
    "\n",
    "https://search.dataone.org/view/https://pasta.lternet.edu/package/metadata/eml/knb-lter-hfr/253/5\n",
    "\n",
    "https://harvardforest1.fas.harvard.edu/exist/apps/datasets/showData.html?id=hf253\n",
    "\n",
    "https://www.google.com/maps/place/42%C2%B032'24.0%22N+72%C2%B010'48.0%22W/@42.5402622,-72.1806483,4209m/data=!3m1!1e3!4m4!3m3!8m2!3d42.54!4d-72.18?entry=ttu\n",
    "\n",
    "https://forestgeo.github.io/fgeo/\n",
    "\n",
    "North\n",
    "+42.54  degrees\n",
    "South\n",
    "+42.54  degrees\n",
    "East\n",
    "-72.18  degrees\n",
    "West\n",
    "-72.18  degrees\n",
    "Minimum Altitude\n",
    "340  meter\n",
    "Maximum Altitude\n",
    "368  meter\n",
    "\n",
    "\n",
    "hf253-02: species codes (preview)\n",
    "hf253-03: trees 2014 (preview)\n",
    "\n",
    "\n",
    "Description\n",
    "Plot Establishment and Woody Stem Census\n",
    "During March 2010, a professional survey crew delineated a 500m x 700m forest plot with a continuous grid of 20 x 20 m quadrats using a Sokkia SET600 Total Station (Olathe, KS). Each of the 35 vertical columns contained twenty-five quadrats or 1 total ha in area. Half meter steel rods and labeled pvc posts (2.5 cm diam.) marked each of the 875, 20 x 20 quadrat corners and pvc posts (1.25 cm diam.) marked each 10 x 10 subsection. Elevation of each quadrat corner was also recorded using the total station.\n",
    "\n",
    "During the summers of 2010 and 2011 for census 1 and 2018 and 2019 for census 2, all woody stems at least 1 cm dbh were measured to the nearest 0.1 cm at 1.3 m height (called the point of measure or POM) and recorded using methods adopted from Condit (1998). If a stem was irregular or damaged at 1.3 m, then an alternative POM was recorded and used. Individual stems were tagged with uniquely numbered six digit metal tags (National Band and Tag Company, Newport, KY) and attached to the tree with an aluminum nail angled downward if at least 8 cm dbh or with plastic coated copper wire if less than 8 cm dbh. For multiple-stemmed individuals the dbh of the largest stem was considered the main stem, along with the number and dbh of other stems at least 1 cm dbh. Each stem’s POM was painted with a 2.5 cm by 15 cm horizontal stripe of yellow road paint. Species identification was recorded at the time of measurement. All dead stems at least 5 cm dbh, still standing, and greater than 45 degrees from horizontal were also recorded during this initial census period. The swamp section located in the center of the ForestGEO plot containing dense shrubs was sampled when frozen during the winter months of 2012-2014. Nomenclature follows Haines (2011).\n",
    "\n",
    "Stem Mapping\n",
    "For census 1, each tagged stem was mapped by hand within 10 x 10 m segments of each quadrat by estimating their location to within 0.1 m on a map data sheet drawn to scale with a dot. Each map was then scanned and converted into a jpeg for further analysis. For census 2, all new stems were mapped onto the census 1 maps in the field using electronic field tablets. Using Image J version 1.46, an open-source Java image processing program (Rasband 2012), each dot (stem) was digitized and then converted to local x,y coordinates within a quadrat using R (R Core Team 2013) and the CTFS R package (Condit 2012).\n",
    "\n",
    "References\n",
    "Condit, R. 1998. Tropical forest census plots: methods and results from Barro Colorado Island, Panama and a comparison with other plots. Springer-Verlag, Berlin and R.G. Landes Company, Georgetown, TX.\n",
    "\n",
    "Condit, R., 2012. CTFS R Package. https://forestgeo.si.edu/explore-data/r-package.\n",
    "\n",
    "Haines, A. 2011. Flora Novae Angliae, a Manual for the Identification of Native and Naturalized Higher Vascular Plants of New England. Yale University Press, New Haven, CT.\n",
    "\n",
    "Rasband WS. 2012. ImageJ, U.S. National Institutes of Health, Bethesda, Maryland, USA (imagej.nih.gov/ij/).\n",
    "\n",
    "R Core Team. 2013. R: A language and environment for statistical computing. R Foundation for Statistical Computing. Vienna."
   ]
  },
  {
   "cell_type": "code",
   "execution_count": 1,
   "id": "6c26d52c",
   "metadata": {},
   "outputs": [],
   "source": [
    "# Need to download planetscope data for these regions"
   ]
  }
 ],
 "metadata": {
  "kernelspec": {
   "display_name": "Python 3 (ipykernel)",
   "language": "python",
   "name": "python3"
  },
  "language_info": {
   "codemirror_mode": {
    "name": "ipython",
    "version": 3
   },
   "file_extension": ".py",
   "mimetype": "text/x-python",
   "name": "python",
   "nbconvert_exporter": "python",
   "pygments_lexer": "ipython3",
   "version": "3.10.10"
  }
 },
 "nbformat": 4,
 "nbformat_minor": 5
}
